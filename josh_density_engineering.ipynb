{
 "cells": [
  {
   "cell_type": "code",
   "execution_count": 16,
   "metadata": {},
   "outputs": [],
   "source": [
    "import pandas as pd\n",
    "\n",
    "import matplotlib.pyplot as plt\n",
    "import seaborn as sns\n",
    "from helpers.prep import train_test_validate_split as split\n",
    "\n",
    "import wrangle\n",
    "import helpers"
   ]
  },
  {
   "cell_type": "code",
   "execution_count": 17,
   "metadata": {},
   "outputs": [],
   "source": [
    "df = wrangle.wrangle_data('both')\n",
    "df, test, validate, = split(df)\n",
    "\n",
    "red = df[df.type == 'red']\n",
    "white = df[df.type == 'white']"
   ]
  },
  {
   "cell_type": "code",
   "execution_count": 18,
   "metadata": {},
   "outputs": [
    {
     "data": {
      "text/plain": [
       "(804, 13)"
      ]
     },
     "execution_count": 18,
     "metadata": {},
     "output_type": "execute_result"
    }
   ],
   "source": [
    "red.shape"
   ]
  },
  {
   "cell_type": "markdown",
   "metadata": {},
   "source": [
    "# About this notebook\n",
    "\n",
    "When dealing with regression models, they are often evaluated by measuring the error of a prediction, or how far away a prediction was from the actual value.  That error is sometimes called \"unexplained error\", referring to the variables that aren't explained by a model.\n",
    "\n",
    "Available to us in this dataset is a variable described as density, and as Tim described it \"Density is like nature's feature engineering, all of the other values are described by density in some way.\"\n",
    "\n",
    "So what if we can extract some kind of feature from density that isn't explained by the other features?  Maybe that could be indicative of ingredients or additives that aren't captured by the other variables!\n",
    "\n",
    "It's possible that by applying a linear regression technique to predict density, we could use the error of that model to describe what we are looking for."
   ]
  },
  {
   "cell_type": "markdown",
   "metadata": {},
   "source": [
    "## Unexplained density"
   ]
  },
  {
   "cell_type": "code",
   "execution_count": 3,
   "metadata": {},
   "outputs": [],
   "source": [
    "from sklearn.linear_model import LinearRegression"
   ]
  },
  {
   "cell_type": "code",
   "execution_count": 4,
   "metadata": {},
   "outputs": [
    {
     "data": {
      "text/html": [
       "<div>\n",
       "<style scoped>\n",
       "    .dataframe tbody tr th:only-of-type {\n",
       "        vertical-align: middle;\n",
       "    }\n",
       "\n",
       "    .dataframe tbody tr th {\n",
       "        vertical-align: top;\n",
       "    }\n",
       "\n",
       "    .dataframe thead th {\n",
       "        text-align: right;\n",
       "    }\n",
       "</style>\n",
       "<table border=\"1\" class=\"dataframe\">\n",
       "  <thead>\n",
       "    <tr style=\"text-align: right;\">\n",
       "      <th></th>\n",
       "      <th>fixed_acidity</th>\n",
       "      <th>volatile_acidity</th>\n",
       "      <th>citric_acid</th>\n",
       "      <th>residual_sugar</th>\n",
       "      <th>chlorides</th>\n",
       "      <th>free_sulfur_dioxide</th>\n",
       "      <th>total_sulfur_dioxide</th>\n",
       "      <th>density</th>\n",
       "      <th>ph</th>\n",
       "      <th>sulphates</th>\n",
       "      <th>alcohol</th>\n",
       "      <th>quality</th>\n",
       "      <th>type</th>\n",
       "    </tr>\n",
       "  </thead>\n",
       "  <tbody>\n",
       "    <tr>\n",
       "      <th>434</th>\n",
       "      <td>10.4</td>\n",
       "      <td>0.41</td>\n",
       "      <td>0.55</td>\n",
       "      <td>3.2</td>\n",
       "      <td>0.076</td>\n",
       "      <td>22.0</td>\n",
       "      <td>54.0</td>\n",
       "      <td>0.9996</td>\n",
       "      <td>3.15</td>\n",
       "      <td>0.89</td>\n",
       "      <td>9.9</td>\n",
       "      <td>6</td>\n",
       "      <td>red</td>\n",
       "    </tr>\n",
       "  </tbody>\n",
       "</table>\n",
       "</div>"
      ],
      "text/plain": [
       "     fixed_acidity  volatile_acidity  citric_acid  residual_sugar  chlorides  \\\n",
       "434           10.4              0.41         0.55             3.2      0.076   \n",
       "\n",
       "     free_sulfur_dioxide  total_sulfur_dioxide  density    ph  sulphates  \\\n",
       "434                 22.0                  54.0   0.9996  3.15       0.89   \n",
       "\n",
       "     alcohol  quality type  \n",
       "434      9.9        6  red  "
      ]
     },
     "execution_count": 4,
     "metadata": {},
     "output_type": "execute_result"
    }
   ],
   "source": [
    "df.head(1)"
   ]
  },
  {
   "cell_type": "code",
   "execution_count": 5,
   "metadata": {},
   "outputs": [],
   "source": [
    "drop_cols = ['density','quality','type']"
   ]
  },
  {
   "cell_type": "markdown",
   "metadata": {},
   "source": [
    "### Red wines"
   ]
  },
  {
   "cell_type": "code",
   "execution_count": 6,
   "metadata": {},
   "outputs": [
    {
     "data": {
      "text/html": [
       "<div>\n",
       "<style scoped>\n",
       "    .dataframe tbody tr th:only-of-type {\n",
       "        vertical-align: middle;\n",
       "    }\n",
       "\n",
       "    .dataframe tbody tr th {\n",
       "        vertical-align: top;\n",
       "    }\n",
       "\n",
       "    .dataframe thead th {\n",
       "        text-align: right;\n",
       "    }\n",
       "</style>\n",
       "<table border=\"1\" class=\"dataframe\">\n",
       "  <thead>\n",
       "    <tr style=\"text-align: right;\">\n",
       "      <th></th>\n",
       "      <th>fixed_acidity</th>\n",
       "      <th>volatile_acidity</th>\n",
       "      <th>citric_acid</th>\n",
       "      <th>residual_sugar</th>\n",
       "      <th>chlorides</th>\n",
       "      <th>free_sulfur_dioxide</th>\n",
       "      <th>total_sulfur_dioxide</th>\n",
       "      <th>density</th>\n",
       "      <th>ph</th>\n",
       "      <th>sulphates</th>\n",
       "      <th>alcohol</th>\n",
       "      <th>quality</th>\n",
       "      <th>type</th>\n",
       "    </tr>\n",
       "  </thead>\n",
       "  <tbody>\n",
       "    <tr>\n",
       "      <th>434</th>\n",
       "      <td>10.4</td>\n",
       "      <td>0.410</td>\n",
       "      <td>0.55</td>\n",
       "      <td>3.2</td>\n",
       "      <td>0.076</td>\n",
       "      <td>22.0</td>\n",
       "      <td>54.0</td>\n",
       "      <td>0.99960</td>\n",
       "      <td>3.15</td>\n",
       "      <td>0.89</td>\n",
       "      <td>9.9</td>\n",
       "      <td>6</td>\n",
       "      <td>red</td>\n",
       "    </tr>\n",
       "    <tr>\n",
       "      <th>146</th>\n",
       "      <td>5.8</td>\n",
       "      <td>0.680</td>\n",
       "      <td>0.02</td>\n",
       "      <td>1.8</td>\n",
       "      <td>0.087</td>\n",
       "      <td>21.0</td>\n",
       "      <td>94.0</td>\n",
       "      <td>0.99440</td>\n",
       "      <td>3.54</td>\n",
       "      <td>0.52</td>\n",
       "      <td>10.0</td>\n",
       "      <td>5</td>\n",
       "      <td>red</td>\n",
       "    </tr>\n",
       "    <tr>\n",
       "      <th>199</th>\n",
       "      <td>6.9</td>\n",
       "      <td>1.090</td>\n",
       "      <td>0.06</td>\n",
       "      <td>2.1</td>\n",
       "      <td>0.061</td>\n",
       "      <td>12.0</td>\n",
       "      <td>31.0</td>\n",
       "      <td>0.99480</td>\n",
       "      <td>3.51</td>\n",
       "      <td>0.43</td>\n",
       "      <td>11.4</td>\n",
       "      <td>4</td>\n",
       "      <td>red</td>\n",
       "    </tr>\n",
       "    <tr>\n",
       "      <th>909</th>\n",
       "      <td>7.3</td>\n",
       "      <td>0.305</td>\n",
       "      <td>0.39</td>\n",
       "      <td>1.2</td>\n",
       "      <td>0.059</td>\n",
       "      <td>7.0</td>\n",
       "      <td>11.0</td>\n",
       "      <td>0.99331</td>\n",
       "      <td>3.29</td>\n",
       "      <td>0.52</td>\n",
       "      <td>11.5</td>\n",
       "      <td>6</td>\n",
       "      <td>red</td>\n",
       "    </tr>\n",
       "    <tr>\n",
       "      <th>595</th>\n",
       "      <td>8.9</td>\n",
       "      <td>0.595</td>\n",
       "      <td>0.41</td>\n",
       "      <td>7.9</td>\n",
       "      <td>0.086</td>\n",
       "      <td>30.0</td>\n",
       "      <td>109.0</td>\n",
       "      <td>0.99980</td>\n",
       "      <td>3.27</td>\n",
       "      <td>0.57</td>\n",
       "      <td>9.3</td>\n",
       "      <td>5</td>\n",
       "      <td>red</td>\n",
       "    </tr>\n",
       "  </tbody>\n",
       "</table>\n",
       "</div>"
      ],
      "text/plain": [
       "     fixed_acidity  volatile_acidity  citric_acid  residual_sugar  chlorides  \\\n",
       "434           10.4             0.410         0.55             3.2      0.076   \n",
       "146            5.8             0.680         0.02             1.8      0.087   \n",
       "199            6.9             1.090         0.06             2.1      0.061   \n",
       "909            7.3             0.305         0.39             1.2      0.059   \n",
       "595            8.9             0.595         0.41             7.9      0.086   \n",
       "\n",
       "     free_sulfur_dioxide  total_sulfur_dioxide  density    ph  sulphates  \\\n",
       "434                 22.0                  54.0  0.99960  3.15       0.89   \n",
       "146                 21.0                  94.0  0.99440  3.54       0.52   \n",
       "199                 12.0                  31.0  0.99480  3.51       0.43   \n",
       "909                  7.0                  11.0  0.99331  3.29       0.52   \n",
       "595                 30.0                 109.0  0.99980  3.27       0.57   \n",
       "\n",
       "     alcohol  quality type  \n",
       "434      9.9        6  red  \n",
       "146     10.0        5  red  \n",
       "199     11.4        4  red  \n",
       "909     11.5        6  red  \n",
       "595      9.3        5  red  "
      ]
     },
     "execution_count": 6,
     "metadata": {},
     "output_type": "execute_result"
    }
   ],
   "source": [
    "red.head()"
   ]
  },
  {
   "cell_type": "markdown",
   "metadata": {},
   "source": [
    "First, let's collect a baseline to compare our models to"
   ]
  },
  {
   "cell_type": "code",
   "execution_count": 7,
   "metadata": {},
   "outputs": [
    {
     "data": {
      "text/plain": [
       "{'max_error': 0.006966716417910357,\n",
       " 'sum_squared_error': 0.0028099227313432844,\n",
       " 'mean_squared_error': 3.494928770327468e-06,\n",
       " 'root_mean_squared_error': 0.00186947285894379,\n",
       " 'mean_absolute_error': 0.0014129683671196256,\n",
       " 'r2_score': 0.0}"
      ]
     },
     "execution_count": 7,
     "metadata": {},
     "output_type": "execute_result"
    }
   ],
   "source": [
    "density_red_y = red.density\n",
    "density_red_x = red.drop(columns=drop_cols)\n",
    "density_red_baseline_model = helpers.eval.BaselineModel(method='mean')\n",
    "density_red_baseline_model.fit(density_red_x, density_red_y)\n",
    "density_red_baseline_pred = density_red_baseline_model.predict(density_red_x)\n",
    "helpers.eval.regression_metrics(density_red_y, density_red_baseline_pred)"
   ]
  },
  {
   "cell_type": "markdown",
   "metadata": {},
   "source": [
    "Then we can get on with the actual modeling"
   ]
  },
  {
   "cell_type": "code",
   "execution_count": 8,
   "metadata": {},
   "outputs": [
    {
     "data": {
      "image/png": "[encoded data removed]",
      "text/plain": [
       "<Figure size 504x288 with 1 Axes>"
      ]
     },
     "metadata": {
      "needs_background": "light"
     },
     "output_type": "display_data"
    },
    {
     "data": {
      "text/plain": [
       "{'max_error': 0.0029894583266620867,\n",
       " 'sum_squared_error': 0.0004139221230317719,\n",
       " 'mean_squared_error': 5.148285112335471e-07,\n",
       " 'root_mean_squared_error': 0.0007175155128870365,\n",
       " 'mean_absolute_error': 0.0005447124592469335,\n",
       " 'r2_score': 0.8526927027513329}"
      ]
     },
     "execution_count": 8,
     "metadata": {},
     "output_type": "execute_result"
    }
   ],
   "source": [
    "density_red_model = LinearRegression()\n",
    "density_red_model.fit(density_red_x, density_red_y)\n",
    "density_red_pred = density_red_model.predict(density_red_x)\n",
    "\n",
    "helpers.eval.plot_residuals(density_red_y, density_red_pred)\n",
    "\n",
    "helpers.eval.regression_metrics(density_red_y, density_red_pred)"
   ]
  },
  {
   "cell_type": "markdown",
   "metadata": {},
   "source": [
    "This model seems to be performing wonderfully with a very small RMSE, but we might be able to get better results by adjusting the hyperparameters"
   ]
  },
  {
   "cell_type": "markdown",
   "metadata": {},
   "source": [
    "## Feature engineering"
   ]
  },
  {
   "cell_type": "code",
   "execution_count": 9,
   "metadata": {},
   "outputs": [
    {
     "name": "stderr",
     "output_type": "stream",
     "text": [
      "C:\\Users\\Crux\\AppData\\Local\\Temp\\ipykernel_11724\\1744659198.py:5: SettingWithCopyWarning: \n",
      "A value is trying to be set on a copy of a slice from a DataFrame.\n",
      "Try using .loc[row_indexer,col_indexer] = value instead\n",
      "\n",
      "See the caveats in the documentation: https://pandas.pydata.org/pandas-docs/stable/user_guide/indexing.html#returning-a-view-versus-a-copy\n",
      "  red['unexplained_density'] = red.density - density_red_pred\n"
     ]
    },
    {
     "data": {
      "image/png": "[encoded data removed]",
      "text/plain": [
       "<Figure size 432x288 with 1 Axes>"
      ]
     },
     "metadata": {
      "needs_background": "light"
     },
     "output_type": "display_data"
    },
    {
     "data": {
      "image/png": "[encoded data removed]",
      "text/plain": [
       "<Figure size 432x288 with 1 Axes>"
      ]
     },
     "metadata": {
      "needs_background": "light"
     },
     "output_type": "display_data"
    }
   ],
   "source": [
    "density_red_model = LinearRegression(fit_intercept=True)\n",
    "density_red_model.fit(density_red_x, density_red_y)\n",
    "density_red_pred = density_red_model.predict(density_red_x)\n",
    "\n",
    "red['unexplained_density'] = red.density - density_red_pred\n",
    "\n",
    "import seaborn as sns\n",
    "sns.boxplot(data= red, x='quality', y='unexplained_density')\n",
    "plt.show()\n",
    "sns.boxplot(data= red, x='quality', y='density')\n",
    "plt.show()"
   ]
  },
  {
   "cell_type": "markdown",
   "metadata": {},
   "source": [
    "### White wines"
   ]
  },
  {
   "cell_type": "code",
   "execution_count": 10,
   "metadata": {},
   "outputs": [
    {
     "data": {
      "text/html": [
       "<div>\n",
       "<style scoped>\n",
       "    .dataframe tbody tr th:only-of-type {\n",
       "        vertical-align: middle;\n",
       "    }\n",
       "\n",
       "    .dataframe tbody tr th {\n",
       "        vertical-align: top;\n",
       "    }\n",
       "\n",
       "    .dataframe thead th {\n",
       "        text-align: right;\n",
       "    }\n",
       "</style>\n",
       "<table border=\"1\" class=\"dataframe\">\n",
       "  <thead>\n",
       "    <tr style=\"text-align: right;\">\n",
       "      <th></th>\n",
       "      <th>fixed_acidity</th>\n",
       "      <th>volatile_acidity</th>\n",
       "      <th>citric_acid</th>\n",
       "      <th>residual_sugar</th>\n",
       "      <th>chlorides</th>\n",
       "      <th>free_sulfur_dioxide</th>\n",
       "      <th>total_sulfur_dioxide</th>\n",
       "      <th>density</th>\n",
       "      <th>ph</th>\n",
       "      <th>sulphates</th>\n",
       "      <th>alcohol</th>\n",
       "      <th>quality</th>\n",
       "      <th>type</th>\n",
       "    </tr>\n",
       "  </thead>\n",
       "  <tbody>\n",
       "    <tr>\n",
       "      <th>3936</th>\n",
       "      <td>6.5</td>\n",
       "      <td>0.28</td>\n",
       "      <td>0.35</td>\n",
       "      <td>9.8</td>\n",
       "      <td>0.067</td>\n",
       "      <td>61.0</td>\n",
       "      <td>180.0</td>\n",
       "      <td>0.99720</td>\n",
       "      <td>3.15</td>\n",
       "      <td>0.57</td>\n",
       "      <td>9.0</td>\n",
       "      <td>4</td>\n",
       "      <td>white</td>\n",
       "    </tr>\n",
       "    <tr>\n",
       "      <th>3914</th>\n",
       "      <td>7.7</td>\n",
       "      <td>0.42</td>\n",
       "      <td>0.38</td>\n",
       "      <td>8.1</td>\n",
       "      <td>0.061</td>\n",
       "      <td>49.0</td>\n",
       "      <td>144.0</td>\n",
       "      <td>0.99660</td>\n",
       "      <td>3.40</td>\n",
       "      <td>0.58</td>\n",
       "      <td>11.0</td>\n",
       "      <td>6</td>\n",
       "      <td>white</td>\n",
       "    </tr>\n",
       "    <tr>\n",
       "      <th>5272</th>\n",
       "      <td>5.4</td>\n",
       "      <td>0.30</td>\n",
       "      <td>0.30</td>\n",
       "      <td>1.2</td>\n",
       "      <td>0.029</td>\n",
       "      <td>25.0</td>\n",
       "      <td>93.0</td>\n",
       "      <td>0.98742</td>\n",
       "      <td>3.31</td>\n",
       "      <td>0.40</td>\n",
       "      <td>13.6</td>\n",
       "      <td>7</td>\n",
       "      <td>white</td>\n",
       "    </tr>\n",
       "    <tr>\n",
       "      <th>3687</th>\n",
       "      <td>8.7</td>\n",
       "      <td>0.15</td>\n",
       "      <td>0.30</td>\n",
       "      <td>1.6</td>\n",
       "      <td>0.046</td>\n",
       "      <td>29.0</td>\n",
       "      <td>130.0</td>\n",
       "      <td>0.99420</td>\n",
       "      <td>3.22</td>\n",
       "      <td>0.38</td>\n",
       "      <td>9.8</td>\n",
       "      <td>6</td>\n",
       "      <td>white</td>\n",
       "    </tr>\n",
       "    <tr>\n",
       "      <th>3417</th>\n",
       "      <td>6.0</td>\n",
       "      <td>0.26</td>\n",
       "      <td>0.29</td>\n",
       "      <td>1.0</td>\n",
       "      <td>0.032</td>\n",
       "      <td>27.0</td>\n",
       "      <td>96.0</td>\n",
       "      <td>0.98960</td>\n",
       "      <td>3.38</td>\n",
       "      <td>0.44</td>\n",
       "      <td>12.3</td>\n",
       "      <td>6</td>\n",
       "      <td>white</td>\n",
       "    </tr>\n",
       "  </tbody>\n",
       "</table>\n",
       "</div>"
      ],
      "text/plain": [
       "      fixed_acidity  volatile_acidity  citric_acid  residual_sugar  chlorides  \\\n",
       "3936            6.5              0.28         0.35             9.8      0.067   \n",
       "3914            7.7              0.42         0.38             8.1      0.061   \n",
       "5272            5.4              0.30         0.30             1.2      0.029   \n",
       "3687            8.7              0.15         0.30             1.6      0.046   \n",
       "3417            6.0              0.26         0.29             1.0      0.032   \n",
       "\n",
       "      free_sulfur_dioxide  total_sulfur_dioxide  density    ph  sulphates  \\\n",
       "3936                 61.0                 180.0  0.99720  3.15       0.57   \n",
       "3914                 49.0                 144.0  0.99660  3.40       0.58   \n",
       "5272                 25.0                  93.0  0.98742  3.31       0.40   \n",
       "3687                 29.0                 130.0  0.99420  3.22       0.38   \n",
       "3417                 27.0                  96.0  0.98960  3.38       0.44   \n",
       "\n",
       "      alcohol  quality   type  \n",
       "3936      9.0        4  white  \n",
       "3914     11.0        6  white  \n",
       "5272     13.6        7  white  \n",
       "3687      9.8        6  white  \n",
       "3417     12.3        6  white  "
      ]
     },
     "execution_count": 10,
     "metadata": {},
     "output_type": "execute_result"
    }
   ],
   "source": [
    "white.head()"
   ]
  },
  {
   "cell_type": "code",
   "execution_count": 11,
   "metadata": {},
   "outputs": [
    {
     "data": {
      "text/plain": [
       "{'max_error': 0.016514206448911106,\n",
       " 'sum_squared_error': 0.019138188471220688,\n",
       " 'mean_squared_error': 8.014316780243169e-06,\n",
       " 'root_mean_squared_error': 0.0028309568665458628,\n",
       " 'mean_absolute_error': 0.002338217104506346,\n",
       " 'r2_score': 0.0}"
      ]
     },
     "execution_count": 11,
     "metadata": {},
     "output_type": "execute_result"
    }
   ],
   "source": [
    "density_white_y = white.density\n",
    "density_white_x = white.drop(columns=drop_cols)\n",
    "density_white_baseline_model = helpers.eval.BaselineModel(method='mean')\n",
    "density_white_baseline_model.fit(density_white_x, density_white_y)\n",
    "density_white_baseline_pred = density_white_baseline_model.predict(density_white_x)\n",
    "helpers.eval.regression_metrics(density_white_y, density_white_baseline_pred)"
   ]
  },
  {
   "cell_type": "code",
   "execution_count": 12,
   "metadata": {},
   "outputs": [
    {
     "data": {
      "image/png": "[encoded data removed]",
      "text/plain": [
       "<Figure size 504x288 with 1 Axes>"
      ]
     },
     "metadata": {
      "needs_background": "light"
     },
     "output_type": "display_data"
    },
    {
     "data": {
      "text/plain": [
       "{'max_error': 0.005454844934945746,\n",
       " 'sum_squared_error': 0.0005463143181387018,\n",
       " 'mean_squared_error': 2.2877484009158367e-07,\n",
       " 'root_mean_squared_error': 0.00047830412928552443,\n",
       " 'mean_absolute_error': 0.000350167727974989,\n",
       " 'r2_score': 0.9714542304272826}"
      ]
     },
     "execution_count": 12,
     "metadata": {},
     "output_type": "execute_result"
    }
   ],
   "source": [
    "density_white_model = LinearRegression(fit_intercept=True)\n",
    "density_white_model.fit(density_white_x, density_white_y)\n",
    "density_white_p = density_white_model.predict(density_white_x)\n",
    "\n",
    "helpers.eval.plot_residuals(density_white_y, density_white_p)\n",
    "\n",
    "helpers.eval.regression_metrics(density_white_y, density_white_p)"
   ]
  },
  {
   "cell_type": "code",
   "execution_count": 13,
   "metadata": {},
   "outputs": [
    {
     "name": "stderr",
     "output_type": "stream",
     "text": [
      "C:\\Users\\Crux\\AppData\\Local\\Temp\\ipykernel_11724\\2524162337.py:1: SettingWithCopyWarning: \n",
      "A value is trying to be set on a copy of a slice from a DataFrame.\n",
      "Try using .loc[row_indexer,col_indexer] = value instead\n",
      "\n",
      "See the caveats in the documentation: https://pandas.pydata.org/pandas-docs/stable/user_guide/indexing.html#returning-a-view-versus-a-copy\n",
      "  white['unexplained_density'] = white.density - density_white_p\n"
     ]
    },
    {
     "data": {
      "image/png": "[encoded data removed]",
      "text/plain": [
       "<Figure size 432x288 with 1 Axes>"
      ]
     },
     "metadata": {
      "needs_background": "light"
     },
     "output_type": "display_data"
    },
    {
     "data": {
      "image/png": "[encoded data removed]",
      "text/plain": [
       "<Figure size 432x288 with 1 Axes>"
      ]
     },
     "metadata": {
      "needs_background": "light"
     },
     "output_type": "display_data"
    }
   ],
   "source": [
    "white['unexplained_density'] = white.density - density_white_p\n",
    "\n",
    "import seaborn as sns\n",
    "sns.boxplot(data= white, x='quality', y='unexplained_density')\n",
    "plt.show()\n",
    "sns.boxplot(data= white, x='quality', y='density')\n",
    "plt.show()"
   ]
  },
  {
   "cell_type": "markdown",
   "metadata": {},
   "source": [
    "# Takeaways\n",
    "\n",
    "Although I had high hopes for this process, I don't beleive the results to be very predictive of quality."
   ]
  },
  {
   "cell_type": "code",
   "execution_count": 15,
   "metadata": {},
   "outputs": [
    {
     "data": {
      "text/plain": [
       "(array(['fixed_acidity', 'volatile_acidity', 'citric_acid',\n",
       "        'residual_sugar', 'chlorides', 'free_sulfur_dioxide',\n",
       "        'total_sulfur_dioxide', 'ph', 'sulphates', 'alcohol'], dtype=object),\n",
       " array([ 7.68705724e-04,  3.84253737e-04,  2.59390001e-04,  3.54774859e-04,\n",
       "         3.57224764e-03, -5.92024620e-06,  3.96585807e-06,  3.25269525e-03,\n",
       "         1.33941579e-03, -1.16412340e-03]))"
      ]
     },
     "execution_count": 15,
     "metadata": {},
     "output_type": "execute_result"
    }
   ],
   "source": [
    "density_white_model.feature_names_in_, density_white_model.coef_"
   ]
  }
 ],
 "metadata": {
  "kernelspec": {
   "display_name": "Python 3.10.7 64-bit",
   "language": "python",
   "name": "python3"
  },
  "language_info": {
   "codemirror_mode": {
    "name": "ipython",
    "version": 3
   },
   "file_extension": ".py",
   "mimetype": "text/x-python",
   "name": "python",
   "nbconvert_exporter": "python",
   "pygments_lexer": "ipython3",
   "version": "3.10.7"
  },
  "orig_nbformat": 4,
  "vscode": {
   "interpreter": {
    "hash": "37b4e1d782780d9803a775659fc8b81e9cc61a0899d4564192c1f7cc3c556e45"
   }
  }
 },
 "nbformat": 4,
 "nbformat_minor": 2
}
